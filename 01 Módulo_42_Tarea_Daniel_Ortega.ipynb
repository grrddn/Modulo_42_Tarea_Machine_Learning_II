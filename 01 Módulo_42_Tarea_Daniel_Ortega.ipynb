{
 "cells": [
  {
   "cell_type": "markdown",
   "id": "42facff6",
   "metadata": {},
   "source": [
    "# **TAREA MÓDULO 42 - Daniel Ortega**\n",
    "\n",
    "El siguiente proyecto es un modelo de Machine Learning para predecir. Utilizaremos un DataFrame de un Banco que hemos a lo largo del curso."
   ]
  },
  {
   "cell_type": "code",
   "execution_count": null,
   "id": "74995fa5",
   "metadata": {},
   "outputs": [],
   "source": []
  }
 ],
 "metadata": {
  "kernelspec": {
   "display_name": "base",
   "language": "python",
   "name": "python3"
  },
  "language_info": {
   "name": "python",
   "version": "3.12.7"
  }
 },
 "nbformat": 4,
 "nbformat_minor": 5
}
